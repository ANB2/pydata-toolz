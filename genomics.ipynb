{
 "metadata": {
  "name": ""
 },
 "nbformat": 3,
 "nbformat_minor": 0,
 "worksheets": [
  {
   "cells": [
    {
     "cell_type": "markdown",
     "metadata": {},
     "source": [
      "# Explorations into Genomics\n",
      "\n",
      "*Inspired/stolen from work by John Jacobsen: http://eigenhombre.com/2013/11/03/nucleotide-repetition-lengths/*\n",
      "\n",
      "An exercise in laziness and counting.  \n",
      "\n",
      "We represent genomes as strings on an alphabet of four letters, A, C, G, and T.  Thus part of a genome might look like the following:\n",
      "\n",
      "    \"AACCGTGTGCGTTTATTAATTATTGCTTTA...\"\n",
      "\n",
      "Each letter corresponds to a particular nucleic acid (TODO verify this) in a very long strand of DNA.  A single genome can be quite large and scientists generate them at an alarming rate.\n",
      "\n",
      "In this section we'll process genomes and perform simple counting analytics on them.  We'll start by counting frequencies of the individual nucleic acids (how often does `A` appear?), move on to counting lengths of repeated nucleic acids (how often do we see long repeated strings like ('AAAAAA'), and finish with a quick markov chain.\n",
      "\n",
      "Throughout we'll see exercise laziness and become familiar with the following functions from PyToolz."
     ]
    },
    {
     "cell_type": "code",
     "collapsed": false,
     "input": [
      "from toolz.curried import (map, frequencies, pipe, take, concat, drop, count,\n",
      "                           partitionby, identity, compose, sliding_window, \n",
      "                           merge_with, merge)\n"
     ],
     "language": "python",
     "metadata": {},
     "outputs": [],
     "prompt_number": 1
    },
    {
     "cell_type": "markdown",
     "metadata": {},
     "source": [
      "We've stored some actual genomes in the data folder"
     ]
    },
    {
     "cell_type": "code",
     "collapsed": false,
     "input": [
      "from glob import glob\n",
      "\n",
      "file_pattern = 'data/human-genome/chrUn*.fa'"
     ],
     "language": "python",
     "metadata": {},
     "outputs": [],
     "prompt_number": 2
    },
    {
     "cell_type": "markdown",
     "metadata": {},
     "source": [
      "We'll compare our results against the genome of a snoot.  A snoot is a magical creature with an infinitely long gene sequence where each letter is uniformly chosen.  We can implement this sequence with Python generators.\n",
      "\n",
      "By comparing our genomes against that of the snoot we'll highlight ways in which our genomes deviate from randomness."
     ]
    },
    {
     "cell_type": "code",
     "collapsed": false,
     "input": [
      "import random\n",
      "\n",
      "def random_genome():\n",
      "    while True:\n",
      "        yield random.choice('ACTG')\n",
      "        \n",
      "snoot = random_genome()        \n",
      "\n",
      "list(take(10, snoot))"
     ],
     "language": "python",
     "metadata": {},
     "outputs": [
      {
       "metadata": {},
       "output_type": "pyout",
       "prompt_number": 3,
       "text": [
        "['C', 'A', 'A', 'C', 'A', 'T', 'C', 'C', 'G', 'G']"
       ]
      }
     ],
     "prompt_number": 3
    },
    {
     "cell_type": "code",
     "collapsed": false,
     "input": [
      "from pylab import hist, show, xticks, title\n",
      "%matplotlib inline\n",
      "\n",
      "def histdict(d, *args, **kwargs):\n",
      "    \"\"\" Plot a histogram given a dictionary of counts \n",
      "    \n",
      "    See Also:\n",
      "        matplotlib.hist\n",
      "    \"\"\"\n",
      "    if all(isinstance(k, (int, float)) for k in d.keys()):\n",
      "        hist(d.keys(), *args, weights=d.values(), **kwargs)\n",
      "    else:\n",
      "        keydict = dict(enumerate(d.keys()))\n",
      "        revdict = {v: k for k, v in keydict.items()}\n",
      "        hist(list(map(revdict.get, d.keys())), *args, weights=d.values(), **kwargs)\n",
      "        xticks(keydict.keys(), keydict.values())\n",
      "        \n",
      "histdict({'cat': 5, 'dog': 3})\n",
      "show()"
     ],
     "language": "python",
     "metadata": {},
     "outputs": [
      {
       "metadata": {},
       "output_type": "display_data",
       "png": "[encoded data removed]",
       "text": [
        "<matplotlib.figure.Figure at 0x204bed0>"
       ]
      }
     ],
     "prompt_number": 4
    },
    {
     "cell_type": "code",
     "collapsed": false,
     "input": [
      "counts = frequencies(take(10000, random_genome()))\n",
      "histdict(counts)"
     ],
     "language": "python",
     "metadata": {},
     "outputs": [
      {
       "metadata": {},
       "output_type": "display_data",
       "png": "[encoded data removed]",
       "text": [
        "<matplotlib.figure.Figure at 0x204de90>"
       ]
      }
     ],
     "prompt_number": 5
    },
    {
     "cell_type": "markdown",
     "metadata": {},
     "source": [
      "# Counting long strings\n",
      "\n",
      "How often do very long repetitions of base pair occur?  E.g. are sequences like \"TTTTTTTTT\" very rare or are they commonplace?"
     ]
    },
    {
     "cell_type": "code",
     "collapsed": false,
     "input": [
      "# Using partitionby - also known as itertools.groupby\n",
      "from toolz.curried import partitionby, identity\n",
      "\n",
      "animals = ['cat', 'dog', 'hen', 'goose', 'moose', 'rat', 'giraffe']\n",
      "list(partitionby(len, animals))  # Parition animals by their name length"
     ],
     "language": "python",
     "metadata": {},
     "outputs": [
      {
       "metadata": {},
       "output_type": "pyout",
       "prompt_number": 6,
       "text": [
        "[['cat', 'dog', 'hen'], ['goose', 'moose'], ['rat'], ['giraffe']]"
       ]
      }
     ],
     "prompt_number": 6
    },
    {
     "cell_type": "code",
     "collapsed": false,
     "input": [
      "# We want to partition our gene sequences 'AACCTTTTTGCT' by the letters themselves\n",
      "# Instead of `len`, our key function is just the trivial identity function\n",
      "identity('A')"
     ],
     "language": "python",
     "metadata": {},
     "outputs": [
      {
       "metadata": {},
       "output_type": "pyout",
       "prompt_number": 7,
       "text": [
        "'A'"
       ]
      }
     ],
     "prompt_number": 7
    },
    {
     "cell_type": "code",
     "collapsed": false,
     "input": [
      "# Lets compose partitionby with identity to collect our sequence \n",
      "# into groups of repeated elements\n",
      "\n",
      "partitions = list(partitionby(identity, 'AACCTTTTTGCT'))\n",
      "partitions"
     ],
     "language": "python",
     "metadata": {},
     "outputs": [
      {
       "metadata": {},
       "output_type": "pyout",
       "prompt_number": 8,
       "text": [
        "[['A', 'A'], ['C', 'C'], ['T', 'T', 'T', 'T', 'T'], ['G'], ['C'], ['T']]"
       ]
      }
     ],
     "prompt_number": 8
    },
    {
     "cell_type": "code",
     "collapsed": false,
     "input": [
      "# From here we just want to compute the length of each group\n",
      "\n",
      "list(map(len, partitions))"
     ],
     "language": "python",
     "metadata": {},
     "outputs": [
      {
       "metadata": {},
       "output_type": "pyout",
       "prompt_number": 9,
       "text": [
        "[2, 2, 5, 1, 1, 1]"
       ]
      }
     ],
     "prompt_number": 9
    },
    {
     "cell_type": "markdown",
     "metadata": {},
     "source": [
      "### Counting recurrances on the random genome\n",
      "\n",
      "Lets pull this together and count recurring base pairs on our random genome."
     ]
    },
    {
     "cell_type": "code",
     "collapsed": false,
     "input": [
      "pipe(snoot, take(20), partitionby(identity), map(len), list)"
     ],
     "language": "python",
     "metadata": {},
     "outputs": [
      {
       "metadata": {},
       "output_type": "pyout",
       "prompt_number": 10,
       "text": [
        "[1, 2, 1, 2, 1, 1, 2, 2, 1, 1, 1, 1, 1, 1, 1, 1]"
       ]
      }
     ],
     "prompt_number": 10
    },
    {
     "cell_type": "code",
     "collapsed": false,
     "input": [
      "result = pipe(snoot, take(1000000), partitionby(identity), map(len), frequencies)\n",
      "\n",
      "histdict(result, log=True)\n",
      "title('Counts of Repeated Base Pairs - Random')\n",
      "result\n"
     ],
     "language": "python",
     "metadata": {},
     "outputs": [
      {
       "metadata": {},
       "output_type": "pyout",
       "prompt_number": 12,
       "text": [
        "{1: 562974,\n",
        " 2: 140491,\n",
        " 3: 35035,\n",
        " 4: 8828,\n",
        " 5: 2141,\n",
        " 6: 584,\n",
        " 7: 131,\n",
        " 8: 37,\n",
        " 9: 11,\n",
        " 10: 5,\n",
        " 11: 4,\n",
        " 12: 1}"
       ]
      },
      {
       "metadata": {},
       "output_type": "display_data",
       "png": "[encoded data removed]",
       "text": [
        "<matplotlib.figure.Figure at 0x34024d0>"
       ]
      }
     ],
     "prompt_number": 12
    },
    {
     "cell_type": "markdown",
     "metadata": {},
     "source": [
      "### Counting recurrances on the Human genome"
     ]
    },
    {
     "cell_type": "code",
     "collapsed": false,
     "input": [
      "result = pipe(file_pattern, glob, map(open), map(drop(1)), \n",
      "                            concat, map(str.upper), map(str.strip), concat,\n",
      "                            partitionby(identity), map(len), frequencies)\n",
      "\n",
      "histdict(result, log=True)\n",
      "title('Counts of Repeated Base Pairs - Human')\n",
      "result\n"
     ],
     "language": "python",
     "metadata": {},
     "outputs": [
      {
       "metadata": {},
       "output_type": "pyout",
       "prompt_number": 14,
       "text": [
        "{1: 772630,\n",
        " 2: 203751,\n",
        " 3: 61904,\n",
        " 4: 18496,\n",
        " 5: 6555,\n",
        " 6: 1868,\n",
        " 7: 746,\n",
        " 8: 263,\n",
        " 9: 145,\n",
        " 10: 94,\n",
        " 11: 65,\n",
        " 12: 49,\n",
        " 13: 31,\n",
        " 14: 33,\n",
        " 15: 30,\n",
        " 16: 15,\n",
        " 17: 14,\n",
        " 18: 11,\n",
        " 19: 12,\n",
        " 20: 12,\n",
        " 21: 7,\n",
        " 22: 5,\n",
        " 23: 3,\n",
        " 24: 4,\n",
        " 25: 2,\n",
        " 26: 1,\n",
        " 27: 1,\n",
        " 28: 2,\n",
        " 31: 1,\n",
        " 32: 1,\n",
        " 36: 1,\n",
        " 37: 1,\n",
        " 38: 1,\n",
        " 39: 2,\n",
        " 42: 1,\n",
        " 44: 1,\n",
        " 45: 1}"
       ]
      },
      {
       "metadata": {},
       "output_type": "display_data",
       "png": "[encoded data removed]",
       "text": [
        "<matplotlib.figure.Figure at 0x3d48d10>"
       ]
      }
     ],
     "prompt_number": 14
    },
    {
     "cell_type": "markdown",
     "metadata": {},
     "source": [
      "## Markov Chains\n",
      "\n",
      "Do certain base pairs commonly occur after others?  Given that we've just seen \"AG\" is it more or less likely that we'll see 'G' again?  What about 'T'?  These questions can be answered with Markov chains. \n",
      "\n",
      "\n",
      "To do this exercise we'll need to use `toolz.sliding_window`.  Sliding window is a generalization on functions like sliding average or sliding max.  Here are some examples demonstrating its use"
     ]
    },
    {
     "cell_type": "code",
     "collapsed": false,
     "input": [
      "list(sliding_window(3, range(10)))"
     ],
     "language": "python",
     "metadata": {},
     "outputs": [
      {
       "metadata": {},
       "output_type": "pyout",
       "prompt_number": 15,
       "text": [
        "[(0, 1, 2),\n",
        " (1, 2, 3),\n",
        " (2, 3, 4),\n",
        " (3, 4, 5),\n",
        " (4, 5, 6),\n",
        " (5, 6, 7),\n",
        " (6, 7, 8),\n",
        " (7, 8, 9)]"
       ]
      }
     ],
     "prompt_number": 15
    },
    {
     "cell_type": "code",
     "collapsed": false,
     "input": [
      "list(sliding_window(5, range(10)))"
     ],
     "language": "python",
     "metadata": {},
     "outputs": [
      {
       "metadata": {},
       "output_type": "pyout",
       "prompt_number": 16,
       "text": [
        "[(0, 1, 2, 3, 4),\n",
        " (1, 2, 3, 4, 5),\n",
        " (2, 3, 4, 5, 6),\n",
        " (3, 4, 5, 6, 7),\n",
        " (4, 5, 6, 7, 8),\n",
        " (5, 6, 7, 8, 9)]"
       ]
      }
     ],
     "prompt_number": 16
    },
    {
     "cell_type": "code",
     "collapsed": false,
     "input": [
      "list(map(sum, sliding_window(5, range(10))))"
     ],
     "language": "python",
     "metadata": {},
     "outputs": [
      {
       "metadata": {},
       "output_type": "pyout",
       "prompt_number": 17,
       "text": [
        "[10, 15, 20, 25, 30, 35]"
       ]
      }
     ],
     "prompt_number": 17
    },
    {
     "cell_type": "code",
     "collapsed": false,
     "input": [
      "from numpy import mean\n",
      "data = [4, 4, 6, 3, 4, 6, 7, 3, 8, 9, 10, 10, 10, 10, 8, 7]\n",
      "\n",
      "moving_average = compose(map(mean), sliding_window(3))\n",
      "\n",
      "list(moving_average(data))"
     ],
     "language": "python",
     "metadata": {},
     "outputs": [
      {
       "metadata": {},
       "output_type": "pyout",
       "prompt_number": 18,
       "text": [
        "[4.666666666666667,\n",
        " 4.333333333333333,\n",
        " 4.333333333333333,\n",
        " 4.333333333333333,\n",
        " 5.666666666666667,\n",
        " 5.333333333333333,\n",
        " 6.0,\n",
        " 6.666666666666667,\n",
        " 9.0,\n",
        " 9.6666666666666661,\n",
        " 10.0,\n",
        " 10.0,\n",
        " 9.3333333333333339,\n",
        " 8.3333333333333339]"
       ]
      }
     ],
     "prompt_number": 18
    },
    {
     "cell_type": "markdown",
     "metadata": {},
     "source": [
      "We'll use sliding window without a function like `sum` or `mean`.  We'll use it to chop up our sequence of base-pairs into a sequence of tuples of base-pairs, called k-mers."
     ]
    },
    {
     "cell_type": "code",
     "collapsed": false,
     "input": [
      "seq = list(take(20, snoot))\n",
      "print seq\n",
      "pipe(seq, sliding_window(3), list)"
     ],
     "language": "python",
     "metadata": {},
     "outputs": [
      {
       "output_type": "stream",
       "stream": "stdout",
       "text": [
        "['T', 'T', 'A', 'T', 'G', 'A', 'C', 'T', 'T', 'C', 'C', 'C', 'C', 'C', 'A', 'A', 'T', 'C', 'A', 'G']\n"
       ]
      },
      {
       "metadata": {},
       "output_type": "pyout",
       "prompt_number": 19,
       "text": [
        "[('T', 'T', 'A'),\n",
        " ('T', 'A', 'T'),\n",
        " ('A', 'T', 'G'),\n",
        " ('T', 'G', 'A'),\n",
        " ('G', 'A', 'C'),\n",
        " ('A', 'C', 'T'),\n",
        " ('C', 'T', 'T'),\n",
        " ('T', 'T', 'C'),\n",
        " ('T', 'C', 'C'),\n",
        " ('C', 'C', 'C'),\n",
        " ('C', 'C', 'C'),\n",
        " ('C', 'C', 'C'),\n",
        " ('C', 'C', 'A'),\n",
        " ('C', 'A', 'A'),\n",
        " ('A', 'A', 'T'),\n",
        " ('A', 'T', 'C'),\n",
        " ('T', 'C', 'A'),\n",
        " ('C', 'A', 'G')]"
       ]
      }
     ],
     "prompt_number": 19
    },
    {
     "cell_type": "code",
     "collapsed": false,
     "input": [
      "pipe(snoot, take(1000000), sliding_window(3), frequencies)"
     ],
     "language": "python",
     "metadata": {},
     "outputs": [
      {
       "metadata": {},
       "output_type": "pyout",
       "prompt_number": 20,
       "text": [
        "{('A', 'A', 'A'): 15591,\n",
        " ('A', 'A', 'C'): 15721,\n",
        " ('A', 'A', 'G'): 15588,\n",
        " ('A', 'A', 'T'): 15446,\n",
        " ('A', 'C', 'A'): 15771,\n",
        " ('A', 'C', 'C'): 15812,\n",
        " ('A', 'C', 'G'): 15711,\n",
        " ('A', 'C', 'T'): 15699,\n",
        " ('A', 'G', 'A'): 15770,\n",
        " ('A', 'G', 'C'): 15676,\n",
        " ('A', 'G', 'G'): 15621,\n",
        " ('A', 'G', 'T'): 15571,\n",
        " ('A', 'T', 'A'): 15553,\n",
        " ('A', 'T', 'C'): 15635,\n",
        " ('A', 'T', 'G'): 15378,\n",
        " ('A', 'T', 'T'): 15743,\n",
        " ('C', 'A', 'A'): 15582,\n",
        " ('C', 'A', 'C'): 15947,\n",
        " ('C', 'A', 'G'): 15720,\n",
        " ('C', 'A', 'T'): 15570,\n",
        " ('C', 'C', 'A'): 15752,\n",
        " ('C', 'C', 'C'): 15764,\n",
        " ('C', 'C', 'G'): 15645,\n",
        " ('C', 'C', 'T'): 15661,\n",
        " ('C', 'G', 'A'): 15837,\n",
        " ('C', 'G', 'C'): 15662,\n",
        " ('C', 'G', 'G'): 15615,\n",
        " ('C', 'G', 'T'): 15752,\n",
        " ('C', 'T', 'A'): 15668,\n",
        " ('C', 'T', 'C'): 15623,\n",
        " ('C', 'T', 'G'): 15628,\n",
        " ('C', 'T', 'T'): 15445,\n",
        " ('G', 'A', 'A'): 15535,\n",
        " ('G', 'A', 'C'): 15782,\n",
        " ('G', 'A', 'G'): 15764,\n",
        " ('G', 'A', 'T'): 15596,\n",
        " ('G', 'C', 'A'): 15622,\n",
        " ('G', 'C', 'C'): 15693,\n",
        " ('G', 'C', 'G'): 15904,\n",
        " ('G', 'C', 'T'): 15415,\n",
        " ('G', 'G', 'A'): 15468,\n",
        " ('G', 'G', 'C'): 15670,\n",
        " ('G', 'G', 'G'): 15246,\n",
        " ('G', 'G', 'T'): 15645,\n",
        " ('G', 'T', 'A'): 15676,\n",
        " ('G', 'T', 'C'): 15624,\n",
        " ('G', 'T', 'G'): 15579,\n",
        " ('G', 'T', 'T'): 15385,\n",
        " ('T', 'A', 'A'): 15638,\n",
        " ('T', 'A', 'C'): 15543,\n",
        " ('T', 'A', 'G'): 15566,\n",
        " ('T', 'A', 'T'): 15697,\n",
        " ('T', 'C', 'A'): 15674,\n",
        " ('T', 'C', 'C'): 15553,\n",
        " ('T', 'C', 'G'): 15607,\n",
        " ('T', 'C', 'T'): 15589,\n",
        " ('T', 'G', 'A'): 15602,\n",
        " ('T', 'G', 'C'): 15626,\n",
        " ('T', 'G', 'G'): 15546,\n",
        " ('T', 'G', 'T'): 15296,\n",
        " ('T', 'T', 'A'): 15547,\n",
        " ('T', 'T', 'C'): 15541,\n",
        " ('T', 'T', 'G'): 15485,\n",
        " ('T', 'T', 'T'): 15727}"
       ]
      }
     ],
     "prompt_number": 20
    },
    {
     "cell_type": "code",
     "collapsed": false,
     "input": [
      "def reshape(item):\n",
      "    ((a, b, c), count) = item  # pattern matching\n",
      "    return {(a, b): {c: count}}\n",
      "\n",
      "pipe(snoot, take(1000000), sliding_window(3), frequencies, dict.items, map(reshape), merge_with(merge))"
     ],
     "language": "python",
     "metadata": {},
     "outputs": [
      {
       "ename": "TypeError",
       "evalue": "'dict' object is not callable",
       "output_type": "pyerr",
       "traceback": [
        "\u001b[1;31m---------------------------------------------------------------------------\u001b[0m\n\u001b[1;31mTypeError\u001b[0m                                 Traceback (most recent call last)",
        "\u001b[1;32m<ipython-input-21-79160841a478>\u001b[0m in \u001b[0;36m<module>\u001b[1;34m()\u001b[0m\n\u001b[0;32m      3\u001b[0m     \u001b[1;32mreturn\u001b[0m \u001b[1;33m{\u001b[0m\u001b[1;33m(\u001b[0m\u001b[0ma\u001b[0m\u001b[1;33m,\u001b[0m \u001b[0mb\u001b[0m\u001b[1;33m)\u001b[0m\u001b[1;33m:\u001b[0m \u001b[1;33m{\u001b[0m\u001b[0mc\u001b[0m\u001b[1;33m:\u001b[0m \u001b[0mcount\u001b[0m\u001b[1;33m}\u001b[0m\u001b[1;33m}\u001b[0m\u001b[1;33m\u001b[0m\u001b[0m\n\u001b[0;32m      4\u001b[0m \u001b[1;33m\u001b[0m\u001b[0m\n\u001b[1;32m----> 5\u001b[1;33m \u001b[0mpipe\u001b[0m\u001b[1;33m(\u001b[0m\u001b[0msnoot\u001b[0m\u001b[1;33m,\u001b[0m \u001b[0mtake\u001b[0m\u001b[1;33m(\u001b[0m\u001b[1;36m1000000\u001b[0m\u001b[1;33m)\u001b[0m\u001b[1;33m,\u001b[0m \u001b[0msliding_window\u001b[0m\u001b[1;33m(\u001b[0m\u001b[1;36m3\u001b[0m\u001b[1;33m)\u001b[0m\u001b[1;33m,\u001b[0m \u001b[0mfrequencies\u001b[0m\u001b[1;33m,\u001b[0m \u001b[0mdict\u001b[0m\u001b[1;33m.\u001b[0m\u001b[0mitems\u001b[0m\u001b[1;33m,\u001b[0m \u001b[0mmap\u001b[0m\u001b[1;33m(\u001b[0m\u001b[0mreshape\u001b[0m\u001b[1;33m)\u001b[0m\u001b[1;33m,\u001b[0m \u001b[0mmerge_with\u001b[0m\u001b[1;33m(\u001b[0m\u001b[0mmerge\u001b[0m\u001b[1;33m)\u001b[0m\u001b[1;33m)\u001b[0m\u001b[1;33m\u001b[0m\u001b[0m\n\u001b[0m",
        "\u001b[1;32m/home/mrocklin/workspace/toolz/toolz/functoolz/core.pyc\u001b[0m in \u001b[0;36mpipe\u001b[1;34m(data, *functions)\u001b[0m\n\u001b[0;32m    278\u001b[0m     \"\"\"\n\u001b[0;32m    279\u001b[0m     \u001b[1;32mfor\u001b[0m \u001b[0mfunc\u001b[0m \u001b[1;32min\u001b[0m \u001b[0mfunctions\u001b[0m\u001b[1;33m:\u001b[0m\u001b[1;33m\u001b[0m\u001b[0m\n\u001b[1;32m--> 280\u001b[1;33m         \u001b[0mdata\u001b[0m \u001b[1;33m=\u001b[0m \u001b[0mfunc\u001b[0m\u001b[1;33m(\u001b[0m\u001b[0mdata\u001b[0m\u001b[1;33m)\u001b[0m\u001b[1;33m\u001b[0m\u001b[0m\n\u001b[0m\u001b[0;32m    281\u001b[0m     \u001b[1;32mreturn\u001b[0m \u001b[0mdata\u001b[0m\u001b[1;33m\u001b[0m\u001b[0m\n",
        "\u001b[1;31mTypeError\u001b[0m: 'dict' object is not callable"
       ]
      }
     ],
     "prompt_number": 21
    },
    {
     "cell_type": "code",
     "collapsed": false,
     "input": [
      "pipe(file_pattern, glob, map(open), map(drop(1)), concat, map(str.upper), map(str.strip), concat,\n",
      "                   sliding_window(3), frequencies, dict.items, map(reshape), merge_with(merge))"
     ],
     "language": "python",
     "metadata": {},
     "outputs": []
    },
    {
     "cell_type": "code",
     "collapsed": false,
     "input": [],
     "language": "python",
     "metadata": {},
     "outputs": []
    }
   ],
   "metadata": {}
  }
 ]
}
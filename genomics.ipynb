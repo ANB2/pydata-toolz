{
 "metadata": {
  "name": ""
 },
 "nbformat": 3,
 "nbformat_minor": 0,
 "worksheets": [
  {
   "cells": [
    {
     "cell_type": "markdown",
     "metadata": {},
     "source": [
      "# Explorations into Genomics\n",
      "\n",
      "*Inspired/stolen from work by John Jacobsen: http://eigenhombre.com/2013/11/03/nucleotide-repetition-lengths/*\n",
      "\n",
      "An exercise in laziness and counting.  \n",
      "\n",
      "We represent genomes as strings on an alphabet of four letters, A, C, G, and T.  Thus part of a genome might look like the following:\n",
      "\n",
      "    \"...AACCGTGTGCGTTTATTAATTATTGCTTTA...\"\n",
      "\n",
      "Each letter corresponds to a particular nucleic acid (TODO verify this) in a very long strand of DNA.  A single genome can be quite large and scientists generate them at an alarming rate.\n",
      "\n",
      "In this section we'll process genomes and perform simple counting analytics on them.  We'll start by counting frequencies of the individual nucleic acids (how often does `A` appear?), move on to counting lengths of repeated nucleic acids (how often do we see long repeated strings like ('AAAAAA'), and finish with a quick markov chain.\n",
      "\n",
      "Throughout we'll see exercise laziness and become familiar with the following functions from PyToolz."
     ]
    },
    {
     "cell_type": "code",
     "collapsed": false,
     "input": [
      "from toolz.curried import (map, frequencies, pipe, take, concat, drop, count,\n",
      "                           partitionby, identity, compose, sliding_window, \n",
      "                           merge_with, merge)"
     ],
     "language": "python",
     "metadata": {},
     "outputs": [],
     "prompt_number": 39
    },
    {
     "cell_type": "markdown",
     "metadata": {},
     "source": [
      "We've stored some actual genomes in the data folder"
     ]
    },
    {
     "cell_type": "code",
     "collapsed": false,
     "input": [
      "from glob import glob\n",
      "\n",
      "file_pattern = 'data/yeast-genome/chr*.fa'"
     ],
     "language": "python",
     "metadata": {},
     "outputs": [],
     "prompt_number": 40
    },
    {
     "cell_type": "markdown",
     "metadata": {},
     "source": [
      "### Snoot - an infinite and uniformly random organism\n",
      "\n",
      "We'll compare our results against the genome of a snoot.  A snoot is a magical creature with an infinitely long gene sequence where each letter is uniformly chosen.  We can implement a snoot genome with a Python generator.\n",
      "\n",
      "By comparing our physical genomes against that of the snoot we'll highlight ways in which we deviate from randomness."
     ]
    },
    {
     "cell_type": "code",
     "collapsed": false,
     "input": [
      "import random\n",
      "\n",
      "def random_genome():\n",
      "    while True:\n",
      "        yield random.choice('ACTG')\n",
      "        \n",
      "snoot = random_genome()        \n",
      "\n",
      "list(take(10, snoot))"
     ],
     "language": "python",
     "metadata": {},
     "outputs": [
      {
       "metadata": {},
       "output_type": "pyout",
       "prompt_number": 41,
       "text": [
        "['C', 'A', 'G', 'T', 'T', 'T', 'G', 'G', 'A', 'T']"
       ]
      }
     ],
     "prompt_number": 41
    },
    {
     "cell_type": "code",
     "collapsed": false,
     "input": [
      "# Set up matplotlib and build a small function to plot histograms of count dictionaries\n",
      "\n",
      "from pylab import hist, show, xticks, title\n",
      "%matplotlib inline\n",
      "\n",
      "def histdict(d, *args, **kwargs):\n",
      "    \"\"\" Plot a histogram given a dictionary of counts \n",
      "    \n",
      "    See Also:\n",
      "        matplotlib.hist\n",
      "    \"\"\"\n",
      "    if all(isinstance(k, (int, float)) for k in d.keys()):\n",
      "        hist(d.keys(), *args, weights=d.values(), **kwargs)\n",
      "    else:\n",
      "        keydict = dict(enumerate(d.keys()))\n",
      "        revdict = {v: k for k, v in keydict.items()}\n",
      "        hist(list(map(revdict.get, d.keys())), *args, weights=d.values(), **kwargs)\n",
      "        xticks(keydict.keys(), keydict.values())\n",
      "        \n",
      "histdict({'dog': 3, 'cat': 5})\n",
      "show()"
     ],
     "language": "python",
     "metadata": {},
     "outputs": [
      {
       "metadata": {},
       "output_type": "display_data",
       "png": "[encoded data removed]",
       "text": [
        "<matplotlib.figure.Figure at 0x213d990>"
       ]
      }
     ],
     "prompt_number": 42
    },
    {
     "cell_type": "code",
     "collapsed": false,
     "input": [
      "counts = frequencies(take(10000, snoot))\n",
      "histdict(counts)"
     ],
     "language": "python",
     "metadata": {},
     "outputs": [
      {
       "metadata": {},
       "output_type": "display_data",
       "png": "[encoded data removed]",
       "text": [
        "<matplotlib.figure.Figure at 0x3905510>"
       ]
      }
     ],
     "prompt_number": 43
    },
    {
     "cell_type": "code",
     "collapsed": false,
     "input": [
      "counts = pipe(file_pattern, glob, map(open), map(drop(1)), \n",
      "                            concat, map(str.upper), map(str.strip), \n",
      "                            concat, frequencies)\n",
      "histdict(counts)"
     ],
     "language": "python",
     "metadata": {},
     "outputs": [
      {
       "metadata": {},
       "output_type": "display_data",
       "png": "[encoded data removed]",
       "text": [
        "<matplotlib.figure.Figure at 0x392c410>"
       ]
      }
     ],
     "prompt_number": 46
    },
    {
     "cell_type": "markdown",
     "metadata": {},
     "source": [
      "# Counting long strings\n",
      "\n",
      "How often do very long repetitions of base pair occur?  E.g. are sequences like \"TTTTTTTTT\" very rare or are they commonplace?"
     ]
    },
    {
     "cell_type": "code",
     "collapsed": false,
     "input": [
      "# Using partitionby - also known as itertools.groupby\n",
      "from toolz.curried import partitionby, identity\n",
      "\n",
      "animals = ['cat', 'dog', 'hen', 'goose', 'moose', 'rat', 'giraffe']\n",
      "list(partitionby(len, animals))  # Parition animals by their name length"
     ],
     "language": "python",
     "metadata": {},
     "outputs": [
      {
       "metadata": {},
       "output_type": "pyout",
       "prompt_number": 47,
       "text": [
        "[['cat', 'dog', 'hen'], ['goose', 'moose'], ['rat'], ['giraffe']]"
       ]
      }
     ],
     "prompt_number": 47
    },
    {
     "cell_type": "code",
     "collapsed": false,
     "input": [
      "# We want to partition our gene sequences 'AACCTTTTTGCT' by the letters themselves\n",
      "# Instead of `len`, our key function is just the trivial identity function\n",
      "identity('A')"
     ],
     "language": "python",
     "metadata": {},
     "outputs": [
      {
       "metadata": {},
       "output_type": "pyout",
       "prompt_number": 48,
       "text": [
        "'A'"
       ]
      }
     ],
     "prompt_number": 48
    },
    {
     "cell_type": "code",
     "collapsed": false,
     "input": [
      "# Lets compose partitionby with identity to collect our sequence \n",
      "# into groups of repeated elements\n",
      "\n",
      "partitions = list(partitionby(identity, 'AACCTTTTTGCT'))\n",
      "partitions"
     ],
     "language": "python",
     "metadata": {},
     "outputs": [
      {
       "metadata": {},
       "output_type": "pyout",
       "prompt_number": 49,
       "text": [
        "[['A', 'A'], ['C', 'C'], ['T', 'T', 'T', 'T', 'T'], ['G'], ['C'], ['T']]"
       ]
      }
     ],
     "prompt_number": 49
    },
    {
     "cell_type": "code",
     "collapsed": false,
     "input": [
      "# From here we just want to compute the length of each group\n",
      "\n",
      "list(map(len, partitions))"
     ],
     "language": "python",
     "metadata": {},
     "outputs": [
      {
       "metadata": {},
       "output_type": "pyout",
       "prompt_number": 50,
       "text": [
        "[2, 2, 5, 1, 1, 1]"
       ]
      }
     ],
     "prompt_number": 50
    },
    {
     "cell_type": "markdown",
     "metadata": {},
     "source": [
      "### Counting recurrances on the random genome\n",
      "\n",
      "Lets pull this together and count recurring base pairs on our random genome."
     ]
    },
    {
     "cell_type": "code",
     "collapsed": false,
     "input": [
      "pipe(snoot, take(20), partitionby(identity), map(len), list)"
     ],
     "language": "python",
     "metadata": {},
     "outputs": [
      {
       "metadata": {},
       "output_type": "pyout",
       "prompt_number": 51,
       "text": [
        "[1, 1, 2, 1, 1, 2, 1, 1, 2, 2, 1, 1, 2, 1, 1]"
       ]
      }
     ],
     "prompt_number": 51
    },
    {
     "cell_type": "code",
     "collapsed": false,
     "input": [
      "result = pipe(snoot, take(1000000), partitionby(identity), map(len), frequencies)\n",
      "\n",
      "histdict(result, log=True)\n",
      "title('Counts of Repeated Base Pairs - Random')\n",
      "result\n"
     ],
     "language": "python",
     "metadata": {},
     "outputs": [
      {
       "metadata": {},
       "output_type": "pyout",
       "prompt_number": 52,
       "text": [
        "{1: 562095,\n",
        " 2: 140521,\n",
        " 3: 35421,\n",
        " 4: 8773,\n",
        " 5: 2205,\n",
        " 6: 541,\n",
        " 7: 131,\n",
        " 8: 34,\n",
        " 9: 3,\n",
        " 10: 1,\n",
        " 11: 1}"
       ]
      },
      {
       "metadata": {},
       "output_type": "display_data",
       "png": "[encoded data removed]",
       "text": [
        "<matplotlib.figure.Figure at 0x3df4850>"
       ]
      }
     ],
     "prompt_number": 52
    },
    {
     "cell_type": "markdown",
     "metadata": {},
     "source": [
      "### Counting recurrances on the Yeast genome"
     ]
    },
    {
     "cell_type": "code",
     "collapsed": false,
     "input": [
      "result = pipe(file_pattern, glob, map(open), map(drop(1)), \n",
      "                            concat, map(str.upper), map(str.strip), concat,\n",
      "                            partitionby(identity), map(len), frequencies)\n",
      "\n",
      "histdict(result, log=True)\n",
      "title('Counts of Repeated Base Pairs - Yeast')\n",
      "result"
     ],
     "language": "python",
     "metadata": {},
     "outputs": [
      {
       "metadata": {},
       "output_type": "pyout",
       "prompt_number": 53,
       "text": [
        "{1: 6118373,\n",
        " 2: 1729275,\n",
        " 3: 488751,\n",
        " 4: 158660,\n",
        " 5: 52793,\n",
        " 6: 17076,\n",
        " 7: 7079,\n",
        " 8: 2700,\n",
        " 9: 1305,\n",
        " 10: 778,\n",
        " 11: 496,\n",
        " 12: 344,\n",
        " 13: 247,\n",
        " 14: 135,\n",
        " 15: 91,\n",
        " 16: 64,\n",
        " 17: 52,\n",
        " 18: 26,\n",
        " 19: 34,\n",
        " 20: 23,\n",
        " 21: 14,\n",
        " 22: 17,\n",
        " 23: 13,\n",
        " 24: 19,\n",
        " 25: 8,\n",
        " 26: 10,\n",
        " 27: 4,\n",
        " 28: 4,\n",
        " 29: 3,\n",
        " 30: 2,\n",
        " 31: 4,\n",
        " 32: 1,\n",
        " 33: 1,\n",
        " 34: 1,\n",
        " 35: 2,\n",
        " 36: 1,\n",
        " 37: 1,\n",
        " 42: 1}"
       ]
      },
      {
       "metadata": {},
       "output_type": "display_data",
       "png": "[encoded data removed]",
       "text": [
        "<matplotlib.figure.Figure at 0x3e06cd0>"
       ]
      }
     ],
     "prompt_number": 53
    },
    {
     "cell_type": "markdown",
     "metadata": {},
     "source": [
      "## Markov Chains\n",
      "\n",
      "Do certain base pairs commonly occur after others?  Given that we've just seen \"AG\" is it more or less likely that we'll see 'G' again?  What about 'T'?  These questions can be answered with Markov chains. \n",
      "\n",
      "\n",
      "To do this exercise we'll need to use `toolz.sliding_window`.  Sliding window is a generalization on functions like sliding average or sliding max.  Here are some examples demonstrating its use"
     ]
    },
    {
     "cell_type": "code",
     "collapsed": false,
     "input": [
      "list(sliding_window(3, range(10)))"
     ],
     "language": "python",
     "metadata": {},
     "outputs": [
      {
       "metadata": {},
       "output_type": "pyout",
       "prompt_number": 18,
       "text": [
        "[(0, 1, 2),\n",
        " (1, 2, 3),\n",
        " (2, 3, 4),\n",
        " (3, 4, 5),\n",
        " (4, 5, 6),\n",
        " (5, 6, 7),\n",
        " (6, 7, 8),\n",
        " (7, 8, 9)]"
       ]
      }
     ],
     "prompt_number": 18
    },
    {
     "cell_type": "code",
     "collapsed": false,
     "input": [
      "list(sliding_window(5, range(10)))"
     ],
     "language": "python",
     "metadata": {},
     "outputs": [
      {
       "metadata": {},
       "output_type": "pyout",
       "prompt_number": 19,
       "text": [
        "[(0, 1, 2, 3, 4),\n",
        " (1, 2, 3, 4, 5),\n",
        " (2, 3, 4, 5, 6),\n",
        " (3, 4, 5, 6, 7),\n",
        " (4, 5, 6, 7, 8),\n",
        " (5, 6, 7, 8, 9)]"
       ]
      }
     ],
     "prompt_number": 19
    },
    {
     "cell_type": "code",
     "collapsed": false,
     "input": [
      "list(map(sum, sliding_window(5, range(10))))"
     ],
     "language": "python",
     "metadata": {},
     "outputs": [
      {
       "metadata": {},
       "output_type": "pyout",
       "prompt_number": 20,
       "text": [
        "[10, 15, 20, 25, 30, 35]"
       ]
      }
     ],
     "prompt_number": 20
    },
    {
     "cell_type": "code",
     "collapsed": false,
     "input": [
      "from numpy import mean\n",
      "data = [4, 4, 6, 3, 4, 6, 7, 3, 8, 9, 10, 10, 10, 10, 8, 7]\n",
      "\n",
      "moving_average = compose(map(mean), sliding_window(3))\n",
      "\n",
      "list(moving_average(data))"
     ],
     "language": "python",
     "metadata": {},
     "outputs": [
      {
       "metadata": {},
       "output_type": "pyout",
       "prompt_number": 21,
       "text": [
        "[4.666666666666667,\n",
        " 4.333333333333333,\n",
        " 4.333333333333333,\n",
        " 4.333333333333333,\n",
        " 5.666666666666667,\n",
        " 5.333333333333333,\n",
        " 6.0,\n",
        " 6.666666666666667,\n",
        " 9.0,\n",
        " 9.6666666666666661,\n",
        " 10.0,\n",
        " 10.0,\n",
        " 9.3333333333333339,\n",
        " 8.3333333333333339]"
       ]
      }
     ],
     "prompt_number": 21
    },
    {
     "cell_type": "markdown",
     "metadata": {},
     "source": [
      "We'll use sliding window without a function like `sum` or `mean`.  We'll use it to chop up our sequence of base-pairs into a sequence of tuples of base-pairs, called k-mers."
     ]
    },
    {
     "cell_type": "code",
     "collapsed": false,
     "input": [
      "seq = list(take(20, snoot))\n",
      "print seq\n",
      "pipe(seq, sliding_window(3), list)"
     ],
     "language": "python",
     "metadata": {},
     "outputs": [
      {
       "output_type": "stream",
       "stream": "stdout",
       "text": [
        "['C', 'T', 'G', 'C', 'G', 'T', 'C', 'T', 'A', 'G', 'T', 'G', 'T', 'T', 'T', 'G', 'C', 'A', 'C', 'G']\n"
       ]
      },
      {
       "metadata": {},
       "output_type": "pyout",
       "prompt_number": 22,
       "text": [
        "[('C', 'T', 'G'),\n",
        " ('T', 'G', 'C'),\n",
        " ('G', 'C', 'G'),\n",
        " ('C', 'G', 'T'),\n",
        " ('G', 'T', 'C'),\n",
        " ('T', 'C', 'T'),\n",
        " ('C', 'T', 'A'),\n",
        " ('T', 'A', 'G'),\n",
        " ('A', 'G', 'T'),\n",
        " ('G', 'T', 'G'),\n",
        " ('T', 'G', 'T'),\n",
        " ('G', 'T', 'T'),\n",
        " ('T', 'T', 'T'),\n",
        " ('T', 'T', 'G'),\n",
        " ('T', 'G', 'C'),\n",
        " ('G', 'C', 'A'),\n",
        " ('C', 'A', 'C'),\n",
        " ('A', 'C', 'G')]"
       ]
      }
     ],
     "prompt_number": 22
    },
    {
     "cell_type": "code",
     "collapsed": false,
     "input": [
      "pipe(snoot, take(1000000), sliding_window(3), frequencies)"
     ],
     "language": "python",
     "metadata": {},
     "outputs": [
      {
       "metadata": {},
       "output_type": "pyout",
       "prompt_number": 23,
       "text": [
        "{('A', 'A', 'A'): 15695,\n",
        " ('A', 'A', 'C'): 15604,\n",
        " ('A', 'A', 'G'): 15660,\n",
        " ('A', 'A', 'T'): 15688,\n",
        " ('A', 'C', 'A'): 15504,\n",
        " ('A', 'C', 'C'): 15537,\n",
        " ('A', 'C', 'G'): 15549,\n",
        " ('A', 'C', 'T'): 15438,\n",
        " ('A', 'G', 'A'): 15639,\n",
        " ('A', 'G', 'C'): 15788,\n",
        " ('A', 'G', 'G'): 15386,\n",
        " ('A', 'G', 'T'): 15619,\n",
        " ('A', 'T', 'A'): 15586,\n",
        " ('A', 'T', 'C'): 15476,\n",
        " ('A', 'T', 'G'): 15522,\n",
        " ('A', 'T', 'T'): 15761,\n",
        " ('C', 'A', 'A'): 15553,\n",
        " ('C', 'A', 'C'): 15475,\n",
        " ('C', 'A', 'G'): 15602,\n",
        " ('C', 'A', 'T'): 15811,\n",
        " ('C', 'C', 'A'): 15551,\n",
        " ('C', 'C', 'C'): 15871,\n",
        " ('C', 'C', 'G'): 15849,\n",
        " ('C', 'C', 'T'): 15599,\n",
        " ('C', 'G', 'A'): 15540,\n",
        " ('C', 'G', 'C'): 15876,\n",
        " ('C', 'G', 'G'): 15610,\n",
        " ('C', 'G', 'T'): 15652,\n",
        " ('C', 'T', 'A'): 15616,\n",
        " ('C', 'T', 'C'): 15556,\n",
        " ('C', 'T', 'G'): 15577,\n",
        " ('C', 'T', 'T'): 15641,\n",
        " ('G', 'A', 'A'): 15646,\n",
        " ('G', 'A', 'C'): 15444,\n",
        " ('G', 'A', 'G'): 15525,\n",
        " ('G', 'A', 'T'): 15374,\n",
        " ('G', 'C', 'A'): 15791,\n",
        " ('G', 'C', 'C'): 15872,\n",
        " ('G', 'C', 'G'): 15692,\n",
        " ('G', 'C', 'T'): 15710,\n",
        " ('G', 'G', 'A'): 15300,\n",
        " ('G', 'G', 'C'): 15685,\n",
        " ('G', 'G', 'G'): 15286,\n",
        " ('G', 'G', 'T'): 15663,\n",
        " ('G', 'T', 'A'): 15647,\n",
        " ('G', 'T', 'C'): 15709,\n",
        " ('G', 'T', 'G'): 15797,\n",
        " ('G', 'T', 'T'): 15685,\n",
        " ('T', 'A', 'A'): 15753,\n",
        " ('T', 'A', 'C'): 15505,\n",
        " ('T', 'A', 'G'): 15646,\n",
        " ('T', 'A', 'T'): 15472,\n",
        " ('T', 'C', 'A'): 15595,\n",
        " ('T', 'C', 'C'): 15589,\n",
        " ('T', 'C', 'G'): 15588,\n",
        " ('T', 'C', 'T'): 15643,\n",
        " ('T', 'G', 'A'): 15510,\n",
        " ('T', 'G', 'C'): 15716,\n",
        " ('T', 'G', 'G'): 15652,\n",
        " ('T', 'G', 'T'): 15904,\n",
        " ('T', 'T', 'A'): 15527,\n",
        " ('T', 'T', 'C'): 15674,\n",
        " ('T', 'T', 'G'): 15886,\n",
        " ('T', 'T', 'T'): 15681}"
       ]
      }
     ],
     "prompt_number": 23
    },
    {
     "cell_type": "code",
     "collapsed": false,
     "input": [
      "def reshape(item):\n",
      "    ((a, b, c), count) = item  # pattern matching\n",
      "    return {(a, b): {c: count}}\n",
      "\n",
      "pipe(snoot, take(1000000), sliding_window(3), frequencies, dict.items, map(reshape), merge_with(merge))"
     ],
     "language": "python",
     "metadata": {},
     "outputs": [
      {
       "ename": "TypeError",
       "evalue": "'dict' object is not callable",
       "output_type": "pyerr",
       "traceback": [
        "\u001b[1;31m---------------------------------------------------------------------------\u001b[0m\n\u001b[1;31mTypeError\u001b[0m                                 Traceback (most recent call last)",
        "\u001b[1;32m<ipython-input-24-79160841a478>\u001b[0m in \u001b[0;36m<module>\u001b[1;34m()\u001b[0m\n\u001b[0;32m      3\u001b[0m     \u001b[1;32mreturn\u001b[0m \u001b[1;33m{\u001b[0m\u001b[1;33m(\u001b[0m\u001b[0ma\u001b[0m\u001b[1;33m,\u001b[0m \u001b[0mb\u001b[0m\u001b[1;33m)\u001b[0m\u001b[1;33m:\u001b[0m \u001b[1;33m{\u001b[0m\u001b[0mc\u001b[0m\u001b[1;33m:\u001b[0m \u001b[0mcount\u001b[0m\u001b[1;33m}\u001b[0m\u001b[1;33m}\u001b[0m\u001b[1;33m\u001b[0m\u001b[0m\n\u001b[0;32m      4\u001b[0m \u001b[1;33m\u001b[0m\u001b[0m\n\u001b[1;32m----> 5\u001b[1;33m \u001b[0mpipe\u001b[0m\u001b[1;33m(\u001b[0m\u001b[0msnoot\u001b[0m\u001b[1;33m,\u001b[0m \u001b[0mtake\u001b[0m\u001b[1;33m(\u001b[0m\u001b[1;36m1000000\u001b[0m\u001b[1;33m)\u001b[0m\u001b[1;33m,\u001b[0m \u001b[0msliding_window\u001b[0m\u001b[1;33m(\u001b[0m\u001b[1;36m3\u001b[0m\u001b[1;33m)\u001b[0m\u001b[1;33m,\u001b[0m \u001b[0mfrequencies\u001b[0m\u001b[1;33m,\u001b[0m \u001b[0mdict\u001b[0m\u001b[1;33m.\u001b[0m\u001b[0mitems\u001b[0m\u001b[1;33m,\u001b[0m \u001b[0mmap\u001b[0m\u001b[1;33m(\u001b[0m\u001b[0mreshape\u001b[0m\u001b[1;33m)\u001b[0m\u001b[1;33m,\u001b[0m \u001b[0mmerge_with\u001b[0m\u001b[1;33m(\u001b[0m\u001b[0mmerge\u001b[0m\u001b[1;33m)\u001b[0m\u001b[1;33m)\u001b[0m\u001b[1;33m\u001b[0m\u001b[0m\n\u001b[0m",
        "\u001b[1;32m/home/mrocklin/workspace/toolz/toolz/functoolz/core.pyc\u001b[0m in \u001b[0;36mpipe\u001b[1;34m(data, *functions)\u001b[0m\n\u001b[0;32m    278\u001b[0m     \"\"\"\n\u001b[0;32m    279\u001b[0m     \u001b[1;32mfor\u001b[0m \u001b[0mfunc\u001b[0m \u001b[1;32min\u001b[0m \u001b[0mfunctions\u001b[0m\u001b[1;33m:\u001b[0m\u001b[1;33m\u001b[0m\u001b[0m\n\u001b[1;32m--> 280\u001b[1;33m         \u001b[0mdata\u001b[0m \u001b[1;33m=\u001b[0m \u001b[0mfunc\u001b[0m\u001b[1;33m(\u001b[0m\u001b[0mdata\u001b[0m\u001b[1;33m)\u001b[0m\u001b[1;33m\u001b[0m\u001b[0m\n\u001b[0m\u001b[0;32m    281\u001b[0m     \u001b[1;32mreturn\u001b[0m \u001b[0mdata\u001b[0m\u001b[1;33m\u001b[0m\u001b[0m\n",
        "\u001b[1;31mTypeError\u001b[0m: 'dict' object is not callable"
       ]
      }
     ],
     "prompt_number": 24
    },
    {
     "cell_type": "code",
     "collapsed": false,
     "input": [
      "pipe(file_pattern, glob, map(open), map(drop(1)), concat, map(str.upper), map(str.strip), concat,\n",
      "                   sliding_window(3), frequencies, dict.items, map(reshape), merge_with(merge))"
     ],
     "language": "python",
     "metadata": {},
     "outputs": []
    },
    {
     "cell_type": "code",
     "collapsed": false,
     "input": [],
     "language": "python",
     "metadata": {},
     "outputs": []
    }
   ],
   "metadata": {}
  }
 ]
}